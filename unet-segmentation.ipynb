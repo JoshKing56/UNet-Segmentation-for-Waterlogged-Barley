{
  "cells": [
    {
      "cell_type": "code",
      "execution_count": null,
      "metadata": {
        "id": "ae77f19f-67b6-4284-89cc-74a9bed19a07"
      },
      "outputs": [],
      "source": [
        "import os\n",
        "\n",
        "colab = True\n",
        "\n",
        "if colab:\n",
        "  from google.colab import drive\n",
        "  drive.mount('/content/drive/')\n",
        "  dataset_path = \"/content/drive/My Drive\"\n",
        "\n",
        "else:\n",
        "  dataset_path = \"/mnt/c/Users/valent1ne/Documents/Dataset/Segmentation \""
      ]
    },
    {
      "cell_type": "code",
      "execution_count": null,
      "metadata": {
        "id": "jTzIQFqJGyjA"
      },
      "outputs": [],
      "source": [
        "from natsort import natsorted\n",
        "\n",
        "set_two_rgb_path = os.path.join(dataset_path, \"Jonathans Data/RgbImages\")\n",
        "set_two_masks_path = os.path.join(dataset_path, \"Jonathans Data/PlantMask\")\n",
        "set_two_filenames = natsorted(os.listdir(set_two_rgb_path))\n",
        "set_two_masknames = natsorted(os.listdir(set_two_masks_path))\n",
        "len(list(set(set_two_filenames))),  len(list(set(set_two_masknames)))"
      ]
    },
    {
      "cell_type": "code",
      "source": [
        "set_two_masknames = [x for i, x in enumerate(set_two_masknames) if i%2==0]"
      ],
      "metadata": {
        "id": "5n86tJ53razL"
      },
      "execution_count": 3,
      "outputs": []
    },
    {
      "cell_type": "code",
      "source": [
        "len(set_two_masknames)"
      ],
      "metadata": {
        "id": "5PPys358zLhV"
      },
      "execution_count": null,
      "outputs": []
    },
    {
      "cell_type": "code",
      "source": [
        "input_images = set_two_filenames\n",
        "mask_images = set_two_masknames"
      ],
      "metadata": {
        "id": "fIjrWCbGzOgW"
      },
      "execution_count": 5,
      "outputs": []
    },
    {
      "cell_type": "code",
      "execution_count": 6,
      "metadata": {
        "id": "e535bf0c-3649-4eae-846e-c857dc4261d2"
      },
      "outputs": [],
      "source": [
        "interpolation_method = \"bilinear\""
      ]
    },
    {
      "cell_type": "code",
      "execution_count": 7,
      "metadata": {
        "id": "a1c536de-51af-4af8-abda-eac839ee274a"
      },
      "outputs": [],
      "source": [
        "from keras.preprocessing import image\n",
        "import numpy as np\n",
        "\n",
        "# img = image.load_img(sample_image_path)\n",
        "# array = image.img_to_array(img)"
      ]
    },
    {
      "cell_type": "code",
      "execution_count": null,
      "metadata": {
        "id": "A1G3Ja145b9M"
      },
      "outputs": [],
      "source": [
        "len(input_images)"
      ]
    },
    {
      "cell_type": "code",
      "execution_count": null,
      "metadata": {
        "id": "de06c9c9-e977-4289-83e9-e4da9dcda240"
      },
      "outputs": [],
      "source": [
        "from sklearn.utils import shuffle\n",
        "\n",
        "x = 123\n",
        "# print(input_images[x])\n",
        "# print(mask_images[x])\n",
        "\n",
        "shuffled_x, shuffled_y = shuffle(input_images, mask_images)\n",
        "print(shuffled_x[x])\n",
        "print(shuffled_y[x])"
      ]
    },
    {
      "cell_type": "code",
      "execution_count": null,
      "metadata": {
        "id": "DsAtQ8n6HTHM"
      },
      "outputs": [],
      "source": [
        "for i, v in enumerate(shuffled_x):\n",
        "  if i < 2:\n",
        "    print(f\"{v}\\n{shuffled_y[i]}\\n\\n\")"
      ]
    },
    {
      "cell_type": "code",
      "source": [
        "shuffled_y[163]"
      ],
      "metadata": {
        "id": "RtcrwX4bbblP"
      },
      "execution_count": null,
      "outputs": []
    },
    {
      "cell_type": "code",
      "source": [
        "os.listdir(os.path.join(dataset_path, \"Jonathans Data\"))"
      ],
      "metadata": {
        "id": "sWu2AGDv0Csq"
      },
      "execution_count": null,
      "outputs": []
    },
    {
      "cell_type": "code",
      "execution_count": null,
      "metadata": {
        "id": "b760e42f-c31b-4936-9aac-ad6f02b60824"
      },
      "outputs": [],
      "source": [
        "# THIS IS COPY OF THE IMAGE PROCESSING CODE JUST FOR TESTING. ONLY RUNS FIRST 5 IMAGES\n",
        "\n",
        "\n",
        "from keras.preprocessing.image import smart_resize\n",
        "if colab:\n",
        "  !pip install -q plantcv==3.13.4\n",
        "  !pip install scipy\n",
        "from plantcv import plantcv as pcv\n",
        "import cv2\n",
        "from scipy.signal import medfilt2d\n",
        "import numpy as np\n",
        "import matplotlib.pyplot as plt\n",
        "\n",
        "x_train = np.ndarray((len(shuffled_x), 512, 512, 1), dtype=np.uint8)\n",
        "y_train = np.ndarray((len(shuffled_y), 512, 512, 1), dtype=np.uint8)\n",
        "pcv.params.debug = 'plot'                     # Plot debug images to the notebook\n",
        "\n",
        "for index, datapoint in enumerate(shuffled_x):\n",
        "    if index < 5:\n",
        "        # Load image\n",
        "        img = image.load_img(os.path.join(dataset_path, \"Jonathans Data\", \"RgbImages\", datapoint))\n",
        "  \n",
        "        #Turn into an array\n",
        "        img_array = image.img_to_array(img)\n",
        "        \n",
        "        # Resize image using bilinear interpolation\n",
        "        img_array = cv2.resize(img_array, dsize=(512, 512))\n",
        "\n",
        "        r = img_array[:,:,0:1]\n",
        "        g = img_array[:,:,1:2]\n",
        "        b = img_array[:,:,2:3]\n",
        "\n",
        "        img_array = 2*g - r - b\n",
        "\n",
        "        # img_array = medfilt2d(img_array)\n",
        "\n",
        "        # Normalize array to be between 0-1 (default is from 0 to 255, cause RGB)\n",
        "        # img_array = img_array / 255\n",
        "\n",
        "        # plt.imshow(np.squeeze(medfilt2d(img_array)))\n",
        "\n",
        "\n",
        "        # Select \"A\" channel of LAB color scheme\n",
        "        # img_array = pcv.rgb2gray_lab(rgb_img=img_array, channel=\"a\")\n",
        "\n",
        "        # Resize array to be correct shape for tensor\n",
        "        # img_array = np.expand_dims(img_array, axis=2)\n",
        "       \n",
        "        # Add resulting array to the list of arrays\n",
        "        x_train[index] = img_array\n",
        "        \n",
        "        mask = image.load_img(os.path.join(dataset_path, \"Jonathans Data\", \"PlantMask\", shuffled_y[index]), color_mode=\"grayscale\") \n",
        "        mask_array = image.img_to_array(mask)\n",
        "        mask_array = cv2.resize(mask_array, dsize=(512, 512))\n",
        "        mask_array = mask_array > 0\n",
        "        mask_array = mask_array.astype(np.uint8)   \n",
        "        # print(mask_array.shape)\n",
        "        # plt.imshow(mask_array)\n",
        "        # print(np.unique(mask_array))\n",
        "        \n",
        "        \n",
        "        # y_train[index] = nexpand_dims(mask_array, axis=2)\n",
        "        \n",
        "        print(f\"Processed {index + 1} out of {len(input_images)} images\")"
      ]
    },
    {
      "cell_type": "code",
      "execution_count": null,
      "metadata": {
        "id": "e1b14a91-914f-498b-a5b2-859231905515"
      },
      "outputs": [],
      "source": [
        "from keras.preprocessing.image import smart_resize\n",
        "from plantcv import plantcv as pcv\n",
        "import cv2\n",
        "import numpy as np\n",
        "import matplotlib.pyplot as plt\n",
        "from scipy.signal import medfilt2d\n",
        "\n",
        "x_values = np.ndarray((len(shuffled_x), 512, 512, 1), dtype=np.uint8)\n",
        "y_values = np.ndarray((len(shuffled_y), 512, 512, 1), dtype=np.uint8)\n",
        "pcv.params.debug = None                     # Plot debug images to the notebook\n",
        "\n",
        "for index, datapoint in enumerate(shuffled_x):\n",
        "    # if index < 5:\n",
        "        # Load image\n",
        "        img = image.load_img(os.path.join(dataset_path, \"Jonathans Data\", \"RgbImages\", datapoint))\n",
        "  \n",
        "        #Turn into an array\n",
        "        img_array = image.img_to_array(img)\n",
        "        \n",
        "        # Resize image using bilinear interpolation\n",
        "        img_array = cv2.resize(img_array, dsize=(512, 512))\n",
        " \n",
        "        r = img_array[:,:,0:1]\n",
        "        g = img_array[:,:,1:2]\n",
        "        b = img_array[:,:,2:3]\n",
        "\n",
        "        img_array = 2*g - r - b\n",
        "        \n",
        "        # Normalize array to be between 0-1 (default is from 0 to 255, cause RGB)\n",
        "        # img_array = img_array / 255\n",
        "        \n",
        "        # Select \"A\" channel of LAB color scheme\n",
        "        # img_array = pcv.rgb2gray_lab(rgb_img=img_array, channel=\"A\")\n",
        "\n",
        "\n",
        "        # Resize array to be correct shape for tensor\n",
        "        # img_array = np.expand_dims(img_array, axis=2)\n",
        "       \n",
        "        # Add resulting array to the list of arrays\n",
        "        x_values[index] = img_array\n",
        "        \n",
        "        mask = image.load_img(os.path.join(dataset_path, \"Jonathans Data\", \"PlantMask\", shuffled_y[index]), color_mode=\"grayscale\") \n",
        "        mask_array = image.img_to_array(mask)\n",
        "        mask_array = cv2.resize(mask_array, dsize=(512, 512))\n",
        "        mask_array = mask_array > 0\n",
        "        mask_array = mask_array.astype(np.uint8)        \n",
        "        mask_array = np.expand_dims(mask_array, axis=2)\n",
        "        \n",
        "        y_values[index] = mask_array\n",
        "        \n",
        "        if index % 50 == True:\n",
        "            print(f\"Processed {index + 1} out of {len(input_images)} images\")"
      ]
    },
    {
      "cell_type": "code",
      "execution_count": 15,
      "metadata": {
        "id": "514f81b3-6081-4ba0-a723-be34a75826f9"
      },
      "outputs": [],
      "source": [
        "test_train_ratio = 0.9\n",
        "\n",
        "x_train = x_values[:round(len(x_values) * test_train_ratio)]\n",
        "x_test = x_values[round(len(x_values) * test_train_ratio):]\n",
        "y_train = y_values[:round(len(y_values) * test_train_ratio)]\n",
        "y_test = y_values[round(len(y_values) * test_train_ratio):]"
      ]
    },
    {
      "cell_type": "code",
      "execution_count": null,
      "metadata": {
        "id": "L257UBpgYHSD"
      },
      "outputs": [],
      "source": [
        "print(f\"x_train: {len(x_train)} x_test: {len(x_test)} y_train: {len(y_train)} y_test: {len(y_test)}\")"
      ]
    },
    {
      "cell_type": "code",
      "source": [
        "shuffled_x[163]"
      ],
      "metadata": {
        "id": "-9YWW8zedFU0"
      },
      "execution_count": null,
      "outputs": []
    },
    {
      "cell_type": "code",
      "execution_count": 24,
      "metadata": {
        "id": "712debee-564b-4748-8be7-4dec686f9ae3"
      },
      "outputs": [],
      "source": [
        "from tensorflow.keras import Input, Model\n",
        "from tensorflow.keras.layers import Conv2D, MaxPooling2D, Dropout, UpSampling2D, concatenate\n",
        "from tensorflow.keras.optimizers import Adam\n",
        "from tensorflow.keras.metrics import MeanIoU\n",
        "\n",
        "\n",
        "def unet(pretrained_weights=None, input_size=(512, 512, 1)):\n",
        "    inputs = Input(input_size)\n",
        "    conv1 = Conv2D(64, 3, activation = 'relu', padding = 'same', kernel_initializer = 'he_normal')(inputs)\n",
        "    conv1 = Dropout(0.1)(conv1)\n",
        "    conv1 = Conv2D(64, 3, activation = 'relu', padding = 'same', kernel_initializer = 'he_normal')(conv1)\n",
        "    pool1 = MaxPooling2D(pool_size=(2, 2))(conv1)\n",
        "\n",
        "    conv2 = Conv2D(128, 3, activation = 'relu', padding = 'same', kernel_initializer = 'he_normal')(pool1)\n",
        "    conv2 = Dropout(0.1)(conv2)\n",
        "    conv2 = Conv2D(128, 3, activation = 'relu', padding = 'same', kernel_initializer = 'he_normal')(conv2)\n",
        "    pool2 = MaxPooling2D(pool_size=(2, 2))(conv2)\n",
        "    \n",
        "    conv3 = Conv2D(256, 3, activation = 'relu', padding = 'same', kernel_initializer = 'he_normal')(pool2)\n",
        "    conv3 = Dropout(0.2)(conv3)\n",
        "    conv3 = Conv2D(256, 3, activation = 'relu', padding = 'same', kernel_initializer = 'he_normal')(conv3)\n",
        "    pool3 = MaxPooling2D(pool_size=(2, 2))(conv3)\n",
        "    \n",
        "    conv4 = Conv2D(512, 3, activation = 'relu', padding = 'same', kernel_initializer = 'he_normal')(pool3)\n",
        "    conv4 = Conv2D(512, 3, activation = 'relu', padding = 'same', kernel_initializer = 'he_normal')(conv4)\n",
        "    drop4 = Dropout(0.3)(conv4)\n",
        "    pool4 = MaxPooling2D(pool_size=(2, 2))(drop4)\n",
        "\n",
        "    conv5 = Conv2D(1024, 3, activation = 'relu', padding = 'same', kernel_initializer = 'he_normal')(pool4)\n",
        "    conv5 = Conv2D(1024, 3, activation = 'relu', padding = 'same', kernel_initializer = 'he_normal')(conv5)\n",
        "    drop5 = Dropout(0.3)(conv5)\n",
        "\n",
        "    up6 = Conv2D(512, 2, activation = 'relu', padding = 'same', kernel_initializer = 'he_normal')(UpSampling2D(size = (2,2))(drop5))\n",
        "    merge6 = concatenate([drop4,up6], axis = 3)\n",
        "    conv6 = Conv2D(512, 3, activation = 'relu', padding = 'same', kernel_initializer = 'he_normal')(merge6)\n",
        "    conv6 = Dropout(0.2)(conv6)\n",
        "    conv6 = Conv2D(512, 3, activation = 'relu', padding = 'same', kernel_initializer = 'he_normal')(conv6)\n",
        "\n",
        "    up7 = Conv2D(256, 2, activation = 'relu', padding = 'same', kernel_initializer = 'he_normal')(UpSampling2D(size = (2,2))(conv6))\n",
        "    merge7 = concatenate([conv3,up7], axis = 3)\n",
        "    conv7 = Conv2D(256, 3, activation = 'relu', padding = 'same', kernel_initializer = 'he_normal')(merge7)\n",
        "    conv7 = Dropout(0.2)(conv7)\n",
        "    conv7 = Conv2D(256, 3, activation = 'relu', padding = 'same', kernel_initializer = 'he_normal')(conv7)\n",
        "\n",
        "    up8 = Conv2D(128, 2, activation = 'relu', padding = 'same', kernel_initializer = 'he_normal')(UpSampling2D(size = (2,2))(conv7))\n",
        "    merge8 = concatenate([conv2,up8], axis = 3)\n",
        "    conv8 = Conv2D(128, 3, activation = 'relu', padding = 'same', kernel_initializer = 'he_normal')(merge8)\n",
        "    conv8 = Dropout(0.2)(conv8)\n",
        "    conv8 = Conv2D(128, 3, activation = 'relu', padding = 'same', kernel_initializer = 'he_normal')(conv8)\n",
        "\n",
        "    up9 = Conv2D(64, 2, activation = 'relu', padding = 'same', kernel_initializer = 'he_normal')(UpSampling2D(size = (2,2))(conv8))\n",
        "    merge9 = concatenate([conv1,up9], axis = 3)\n",
        "    conv9 = Conv2D(64, 3, activation = 'relu', padding = 'same', kernel_initializer = 'he_normal')(merge9)\n",
        "    conv9 = Conv2D(64, 3, activation = 'relu', padding = 'same', kernel_initializer = 'he_normal')(conv9)\n",
        "    conv9 = Conv2D(2, 3, activation = 'relu', padding = 'same', kernel_initializer = 'he_normal')(conv9)\n",
        "\n",
        "    conv10 = Conv2D(1, 1, activation = 'sigmoid')(conv9)\n",
        "\n",
        "    model = Model(inputs=inputs, outputs=conv10)\n",
        "    # model.compile(optimizer=\"adam\", loss=\"binary_crossentropy\", metrics=[MeanIoU(num_classes=2)])\n",
        "    model.compile(optimizer=\"adam\", loss='binary_crossentropy', metrics=['accuracy', MeanIoU(num_classes=2)])\n",
        "\n",
        "\n",
        "    if pretrained_weights:\n",
        "        model.load_weights(pretrained_weights)\n",
        "\n",
        "    return model"
      ]
    },
    {
      "cell_type": "code",
      "execution_count": null,
      "metadata": {
        "id": "21c8849c-fb13-45f6-9690-7fe3d9a08cce"
      },
      "outputs": [],
      "source": [
        "model = unet()\n",
        "model.summary()"
      ]
    },
    {
      "cell_type": "code",
      "execution_count": 26,
      "metadata": {
        "id": "fb6af34c-adfa-430a-b476-3ee2a20e8064"
      },
      "outputs": [],
      "source": [
        "from tensorflow.keras.callbacks import ModelCheckpoint, TensorBoard, ReduceLROnPlateau, EarlyStopping\n",
        "\n",
        "\n",
        "model_name = 'four_epochs.h5'\n",
        "log_dir = \"logs/000\"\n",
        "logging = TensorBoard(log_dir=log_dir)\n",
        "reduce_lr = ReduceLROnPlateau(monitor='val_loss', factor=0.1, patience=3, verbose=1)\n",
        "early_stopping = EarlyStopping(monitor='val_loss', min_delta=0, patience=10, verbose=1)"
      ]
    },
    {
      "cell_type": "code",
      "execution_count": null,
      "metadata": {
        "id": "cf0e8b95-c66b-4f1c-b603-f0d7ffd2d96c"
      },
      "outputs": [],
      "source": [
        "model_checkpoint = ModelCheckpoint('unet.h5', monitor='val_loss', verbose=1, save_best_only=True)\n",
        "model.fit(x_train, y_train, batch_size=4, epochs=5, verbose=1,\n",
        "                      validation_split=0.2, shuffle=True,\n",
        "                      callbacks=[logging, model_checkpoint, reduce_lr, early_stopping])\n",
        "model.save(model_name)"
      ]
    },
    {
      "cell_type": "code",
      "execution_count": 28,
      "metadata": {
        "id": "LU-FUzKvQL7V"
      },
      "outputs": [],
      "source": [
        "pred = model.predict(x_test, batch_size=4) \n",
        "# pred = np.argmax(pred, axis = 1)\n",
        "# label = np.argmax(y_test,axis = 1)"
      ]
    },
    {
      "cell_type": "code",
      "source": [
        "for x in x_test:\n",
        "  sample_prediction = np.squeeze(x)\n",
        "  print(len(np.unique(sample_prediction)))"
      ],
      "metadata": {
        "id": "b0AiINylcxvF"
      },
      "execution_count": null,
      "outputs": []
    },
    {
      "cell_type": "code",
      "execution_count": null,
      "metadata": {
        "id": "pWj-uoqsJI4Q"
      },
      "outputs": [],
      "source": [
        "score = model.evaluate(x_test, y_test, batch_size=4, verbose=1)\n",
        "print('Test loss:', score[0]) \n",
        "print('Test accuracy:', score[1])"
      ]
    },
    {
      "cell_type": "markdown",
      "source": [
        "# Trying to predict on jason's dataet"
      ],
      "metadata": {
        "id": "EcWly4M3_mno"
      }
    },
    {
      "cell_type": "code",
      "execution_count": null,
      "metadata": {
        "id": "rLXf3rWc_jJL"
      },
      "outputs": [],
      "source": [
        "import os\n",
        "\n",
        "colab = True\n",
        "\n",
        "if colab:\n",
        "  from google.colab import drive\n",
        "  drive.mount('/content/drive')\n",
        "  dataset_path = \"/content/drive/My Drive/Segmentation - 01 reduced\"\n",
        "\n",
        "else:\n",
        "  dataset_path = \"/mnt/c/Users/valent1ne/Documents/Dataset/Segmentation - 01\"\n",
        "\n"
      ]
    },
    {
      "cell_type": "code",
      "execution_count": null,
      "metadata": {
        "id": "uKify9Ig_jJT"
      },
      "outputs": [],
      "source": [
        "sample_image_path = os.path.join(dataset_path, os.listdir(dataset_path)[123])\n",
        "sample_image_path"
      ]
    },
    {
      "cell_type": "code",
      "execution_count": null,
      "metadata": {
        "id": "0v1gPcttD2aX"
      },
      "outputs": [],
      "source": [
        "from natsort import natsorted\n",
        "\n",
        "natsorted(os.listdir(dataset_path))[:10]"
      ]
    },
    {
      "cell_type": "code",
      "execution_count": 37,
      "metadata": {
        "id": "peWzcfEA_jJU"
      },
      "outputs": [],
      "source": [
        "interpolation_method = \"bilinear\""
      ]
    },
    {
      "cell_type": "code",
      "execution_count": 38,
      "metadata": {
        "id": "DRIEO_3G_jJU"
      },
      "outputs": [],
      "source": [
        "from keras.preprocessing import image\n",
        "import numpy as np\n",
        "\n",
        "img = image.load_img(sample_image_path)\n",
        "array = image.img_to_array(img)"
      ]
    },
    {
      "cell_type": "code",
      "execution_count": 39,
      "metadata": {
        "id": "6d4d931a-b90d-41bf-95d3-597e9f949765"
      },
      "outputs": [],
      "source": [
        "from natsort import natsorted\n",
        "dataset_filenames = natsorted(os.listdir(dataset_path))\n",
        "input_images = [x for x in dataset_filenames if \"FEC_\" in x]\n",
        "mask_images =  [x for x in dataset_filenames if \"Coloring_\" in x]"
      ]
    },
    {
      "cell_type": "code",
      "execution_count": null,
      "metadata": {
        "id": "NaCLdfVf_jJU"
      },
      "outputs": [],
      "source": [
        "len(input_images)"
      ]
    },
    {
      "cell_type": "code",
      "execution_count": null,
      "metadata": {
        "id": "sLlJYXev_jJU"
      },
      "outputs": [],
      "source": [
        "from sklearn.utils import shuffle\n",
        "\n",
        "x = 234\n",
        "# print(input_images[x])\n",
        "# print(mask_images[x])\n",
        "\n",
        "shuffled_x, shuffled_y = shuffle(input_images, mask_images)\n",
        "print(shuffled_x[x])\n",
        "print(shuffled_y[x])"
      ]
    },
    {
      "cell_type": "code",
      "execution_count": null,
      "metadata": {
        "id": "6psRgf1o_jJV"
      },
      "outputs": [],
      "source": [
        "for i, v in enumerate(shuffled_x):\n",
        "  if i < 2:\n",
        "    print(f\"{v}\\n{shuffled_y[i]}\\n\\n\")"
      ]
    },
    {
      "cell_type": "code",
      "execution_count": null,
      "metadata": {
        "id": "Rs6HIEYB_jJV"
      },
      "outputs": [],
      "source": [
        "# THIS IS COPY OF THE IMAGE PROCESSING CODE JUST FOR TESTING. ONLY RUNS FIRST 5 IMAGES\n",
        "\n",
        "\n",
        "from keras.preprocessing.image import smart_resize\n",
        "if colab:\n",
        "  !pip install -q plantcv==3.13.4\n",
        "from plantcv import plantcv as pcv\n",
        "import cv2\n",
        "import numpy as np\n",
        "import matplotlib.pyplot as plt\n",
        "\n",
        "x_train = np.ndarray((len(shuffled_x), 512, 512, 1), dtype=np.uint8)\n",
        "y_train = np.ndarray((len(shuffled_y), 512, 512, 1), dtype=np.uint8)\n",
        "# pcv.params.debug = 'plot'                     # Plot debug images to the notebook\n",
        "pcv.params.debug = None                     # Plot debug images to the notebook\n",
        "\n",
        "\n",
        "for index, datapoint in enumerate(shuffled_x):\n",
        "    if index < 1:\n",
        "        # Load image\n",
        "        img = image.load_img(os.path.join(dataset_path, datapoint))\n",
        "  \n",
        "        #Turn into an array\n",
        "        img_array = image.img_to_array(img)\n",
        "        \n",
        "        # Resize image using bilinear interpolation\n",
        "        img_array = cv2.resize(img_array, dsize=(512, 512))\n",
        "        \n",
        "        # Normalize array to be between 0-1 (default is from 0 to 255, cause RGB)\n",
        "        img_array = img_array / 255\n",
        "        \n",
        "        # Select \"A\" channel of LAB color scheme\n",
        "        img_array = pcv.rgb2gray_lab(rgb_img=img_array, channel=\"A\")\n",
        "\n",
        "        # Resize array to be correct shape for tensor\n",
        "        img_array = np.expand_dims(img_array, axis=2)\n",
        "       \n",
        "        # Add resulting array to the list of arrays\n",
        "        x_train[index] = img_array\n",
        "        \n",
        "        mask = image.load_img(os.path.join(dataset_path, shuffled_y[index]), color_mode=\"grayscale\") \n",
        "        mask_array = image.img_to_array(mask)\n",
        "        mask_array = cv2.resize(mask_array, dsize=(512, 512))\n",
        "        temp_arr = mask_array > 0\n",
        "        mask_array = temp_arr.astype(np.uint8)\n",
        "        # mask_array = mask_array \n",
        "        # np.savetxt(\"mask.txt\", mask_array)\n",
        "        print(np.unique(mask_array))\n",
        "        plt.imshow(mask_array)\n",
        "        \n",
        "        # y_train[index] = nexpand_dims(mask_array, axis=2)\n",
        "        \n",
        "        print(f\"Processed {index + 1} out of {len(input_images)} images\")"
      ]
    },
    {
      "cell_type": "code",
      "execution_count": null,
      "metadata": {
        "id": "DAUCUBn3_jJV"
      },
      "outputs": [],
      "source": [
        "from keras.preprocessing.image import smart_resize\n",
        "from plantcv import plantcv as pcv\n",
        "import cv2\n",
        "import numpy as np\n",
        "import matplotlib.pyplot as plt\n",
        "\n",
        "x_values = np.ndarray((len(shuffled_x), 512, 512, 1), dtype=np.uint8)\n",
        "y_values = np.ndarray((len(shuffled_y), 512, 512, 1), dtype=np.uint8)\n",
        "pcv.params.debug = None                     # Plot debug images to the notebook\n",
        "\n",
        "for index, datapoint in enumerate(shuffled_x):\n",
        "    # if index < 5:\n",
        "        # Load image\n",
        "        img = image.load_img(os.path.join(dataset_path, datapoint))\n",
        "  \n",
        "        #Turn into an array\n",
        "        img_array = image.img_to_array(img)\n",
        "        \n",
        "        # Resize image using bilinear interpolation\n",
        "        img_array = cv2.resize(img_array, dsize=(512, 512))\n",
        "        \n",
        "        # Normalize array to be between 0-1 (default is from 0 to 255, cause RGB)\n",
        "        img_array = img_array / 255\n",
        "        \n",
        "        # Select \"A\" channel of LAB color scheme\n",
        "        img_array = pcv.rgb2gray_lab(rgb_img=img_array, channel=\"A\")\n",
        "\n",
        "        # Resize array to be correct shape for tensor\n",
        "        img_array = np.expand_dims(img_array, axis=2)\n",
        "       \n",
        "        # Add resulting array to the list of arrays\n",
        "        x_values[index] = img_array\n",
        "        \n",
        "        mask = image.load_img(os.path.join(dataset_path, shuffled_y[index]), color_mode=\"grayscale\") \n",
        "        mask_array = image.img_to_array(mask)\n",
        "        mask_array = cv2.resize(mask_array, dsize=(512, 512))\n",
        "        # mask_array = mask_array / 255\n",
        "        mask_array = mask_array > 0\n",
        "        mask_array = mask_array.astype(np.uint8)\n",
        "\n",
        "        mask_array = np.expand_dims(mask_array, axis=2)\n",
        "        \n",
        "        y_values[index] = mask_array\n",
        "        \n",
        "        if index % 50 == True:\n",
        "            print(f\"Processed {index + 1} out of {len(input_images)} images\")"
      ]
    },
    {
      "cell_type": "code",
      "execution_count": null,
      "metadata": {
        "id": "JrO76LYKAGwM"
      },
      "outputs": [],
      "source": [
        "score = model.evaluate(x_values, y_values, batch_size=4, verbose=1)\n",
        "print('Test loss:', score[0]) \n",
        "print('Test accuracy:', score[1])\n",
        "\n"
      ]
    },
    {
      "cell_type": "code",
      "source": [
        "model.predict"
      ],
      "metadata": {
        "id": "9hImUMKvEhkY"
      },
      "execution_count": null,
      "outputs": []
    },
    {
      "cell_type": "code",
      "execution_count": 47,
      "metadata": {
        "id": "WCwmVHnJNE4B"
      },
      "outputs": [],
      "source": [
        "from keras import backend as K\n",
        "def iou_coef(y_true, y_pred, smooth=1):\n",
        "  intersection = K.sum(K.abs(y_true * y_pred), axis=[1,2,3])\n",
        "  union = K.sum(y_true,[1,2,3])+K.sum(y_pred,[1,2,3])-intersection\n",
        "  iou = K.mean((intersection + smooth) / (union + smooth), axis=0)\n",
        "  return iou"
      ]
    }
  ],
  "metadata": {
    "accelerator": "GPU",
    "colab": {
      "machine_shape": "hm",
      "name": "jonthans_dataset.ipynb",
      "provenance": []
    },
    "kernelspec": {
      "display_name": "Python 3",
      "name": "python3"
    },
    "language_info": {
      "name": "python"
    }
  },
  "nbformat": 4,
  "nbformat_minor": 0
}